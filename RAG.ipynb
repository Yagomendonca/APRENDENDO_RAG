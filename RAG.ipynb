{
 "cells": [
  {
   "cell_type": "code",
   "execution_count": 1,
   "metadata": {},
   "outputs": [
    {
     "data": {
      "text/plain": [
       "True"
      ]
     },
     "execution_count": 1,
     "metadata": {},
     "output_type": "execute_result"
    }
   ],
   "source": [
    "## IMPORT DAS BIBLIOTECAS\n",
    "import os\n",
    "from dotenv import load_dotenv\n",
    "from langchain_openai import ChatOpenAI\n",
    "load_dotenv('OPEN_API_KEY.env')"
   ]
  },
  {
   "cell_type": "code",
   "execution_count": 2,
   "metadata": {},
   "outputs": [],
   "source": [
    "## CHAMANDO O CHAT DO GPT\n",
    "chat = ChatOpenAI(\n",
    "    model = 'gpt-3.5-turbo',\n",
    ")"
   ]
  },
  {
   "cell_type": "code",
   "execution_count": 3,
   "metadata": {},
   "outputs": [],
   "source": [
    "## CRIANDO UM MODELO BÁSICO DE RESPOSTA\n",
    "from langchain.schema import (\n",
    "    SystemMessage,\n",
    "    HumanMessage,\n",
    "    AIMessage,\n",
    ")\n",
    "\n",
    "messages = [\n",
    "    SystemMessage(content='Você é um assitente biblico'),\n",
    "    HumanMessage(content='Olá Bot, como você está hoje?'),\n",
    "    AIMessage(content='Estou bem, obirgado! Como posso te ajudar?'),\n",
    "]"
   ]
  },
  {
   "cell_type": "code",
   "execution_count": 4,
   "metadata": {},
   "outputs": [],
   "source": [
    "## CRIANDO UM MODELO BÁSICO DE RESPOSTA\n",
    "prompt = HumanMessage(\n",
    "    content='Quantos filhos Ramás teve?'\n",
    ")\n",
    "## Trazer as informações de acordo com o histórico!\n",
    "messages.append(prompt)"
   ]
  },
  {
   "cell_type": "code",
   "execution_count": 5,
   "metadata": {},
   "outputs": [
    {
     "name": "stdout",
     "output_type": "stream",
     "text": [
      "Segundo 1 Crônicas 2:10-11, Ramá teve dois filhos chamados Arão e Samuel.\n"
     ]
    }
   ],
   "source": [
    "## RETORNANDO A INFORMAÇÃO\n",
    "res = chat.invoke(messages)\n",
    "print(res.content)"
   ]
  },
  {
   "cell_type": "code",
   "execution_count": 6,
   "metadata": {},
   "outputs": [],
   "source": [
    "## COMEÇANDO A ENTENDER O RAG\n",
    "INFORMACOES_UTEIS = ['O Yago comeu ontem arroz, batata e feijão ele gostou bastante da comida']\n",
    "source_knowledge = \"\\n\".join(INFORMACOES_UTEIS)\n",
    "query = \"Você pode me falar o que o Yago comeu ontem?\"\n",
    "augmented_prompt = f\"\"\"Use o contexto abaixo para responder.\n",
    "\n",
    "Contexto:\n",
    "{source_knowledge}\n",
    "\n",
    "Pergunta:\n",
    "{query}\n",
    "\"\"\"\n"
   ]
  },
  {
   "cell_type": "code",
   "execution_count": 7,
   "metadata": {},
   "outputs": [
    {
     "name": "stdout",
     "output_type": "stream",
     "text": [
      "Sim, o Yago comeu arroz, batata e feijão e gostou bastante da comida.\n"
     ]
    }
   ],
   "source": [
    "## COMEÇANDO A ENTENDER O RAG\n",
    "prompt = HumanMessage(\n",
    "    content=augmented_prompt\n",
    ")\n",
    "\n",
    "messages.append(prompt)\n",
    "\n",
    "res= chat.invoke(messages)\n",
    "print(res.content)"
   ]
  },
  {
   "cell_type": "markdown",
   "metadata": {},
   "source": [
    "RAG"
   ]
  },
  {
   "cell_type": "code",
   "execution_count": 8,
   "metadata": {},
   "outputs": [
    {
     "data": {
      "text/html": [
       "<div>\n",
       "<style scoped>\n",
       "    .dataframe tbody tr th:only-of-type {\n",
       "        vertical-align: middle;\n",
       "    }\n",
       "\n",
       "    .dataframe tbody tr th {\n",
       "        vertical-align: top;\n",
       "    }\n",
       "\n",
       "    .dataframe thead th {\n",
       "        text-align: right;\n",
       "    }\n",
       "</style>\n",
       "<table border=\"1\" class=\"dataframe\">\n",
       "  <thead>\n",
       "    <tr style=\"text-align: right;\">\n",
       "      <th></th>\n",
       "      <th>Clube Campeão</th>\n",
       "      <th>Número de Títulos</th>\n",
       "      <th>História</th>\n",
       "    </tr>\n",
       "  </thead>\n",
       "  <tbody>\n",
       "    <tr>\n",
       "      <th>0</th>\n",
       "      <td>Palmeiras</td>\n",
       "      <td>11</td>\n",
       "      <td>Fundado em 1914 como Palestra Italia, em São P...</td>\n",
       "    </tr>\n",
       "    <tr>\n",
       "      <th>1</th>\n",
       "      <td>Santos</td>\n",
       "      <td>8</td>\n",
       "      <td>Fundado em 1912, em Santos, destacou-se na era...</td>\n",
       "    </tr>\n",
       "    <tr>\n",
       "      <th>2</th>\n",
       "      <td>Corinthians</td>\n",
       "      <td>7</td>\n",
       "      <td>Criado em 1910, em São Paulo, é um dos clubes ...</td>\n",
       "    </tr>\n",
       "    <tr>\n",
       "      <th>3</th>\n",
       "      <td>Flamengo</td>\n",
       "      <td>8</td>\n",
       "      <td>Fundado em 1895, no Rio de Janeiro, é um dos m...</td>\n",
       "    </tr>\n",
       "    <tr>\n",
       "      <th>4</th>\n",
       "      <td>São Paulo</td>\n",
       "      <td>6</td>\n",
       "      <td>Fundado em 1930, em São Paulo, vencedor de 6 e...</td>\n",
       "    </tr>\n",
       "    <tr>\n",
       "      <th>5</th>\n",
       "      <td>Cruzeiro</td>\n",
       "      <td>4</td>\n",
       "      <td>Criado em 1921, em Belo Horizonte, conquistou ...</td>\n",
       "    </tr>\n",
       "    <tr>\n",
       "      <th>6</th>\n",
       "      <td>Fluminense</td>\n",
       "      <td>4</td>\n",
       "      <td>Fundado em 1902, no Rio de Janeiro, conquistou...</td>\n",
       "    </tr>\n",
       "    <tr>\n",
       "      <th>7</th>\n",
       "      <td>Vasco da Gama</td>\n",
       "      <td>4</td>\n",
       "      <td>Criado em 1898, no Rio de Janeiro, tem 4 campe...</td>\n",
       "    </tr>\n",
       "    <tr>\n",
       "      <th>8</th>\n",
       "      <td>Atlético Mineiro</td>\n",
       "      <td>2</td>\n",
       "      <td>Fundado em 1908, em Minas Gerais, faturou 2 tí...</td>\n",
       "    </tr>\n",
       "    <tr>\n",
       "      <th>9</th>\n",
       "      <td>Internacional</td>\n",
       "      <td>3</td>\n",
       "      <td>Criado em 1909, no Rio Grande do Sul, venceu 3...</td>\n",
       "    </tr>\n",
       "    <tr>\n",
       "      <th>10</th>\n",
       "      <td>Botafogo</td>\n",
       "      <td>2</td>\n",
       "      <td>Fundado em 1904, no Rio de Janeiro, soma 2 cam...</td>\n",
       "    </tr>\n",
       "    <tr>\n",
       "      <th>11</th>\n",
       "      <td>Bahia</td>\n",
       "      <td>2</td>\n",
       "      <td>Criado em 1931, na Bahia, conquistou 2 Brasile...</td>\n",
       "    </tr>\n",
       "    <tr>\n",
       "      <th>12</th>\n",
       "      <td>Grêmio</td>\n",
       "      <td>2</td>\n",
       "      <td>Fundado em 1903, no Rio Grande do Sul, tem 2 t...</td>\n",
       "    </tr>\n",
       "    <tr>\n",
       "      <th>13</th>\n",
       "      <td>Athletico Paranaense</td>\n",
       "      <td>1</td>\n",
       "      <td>Criado em 1924, no Paraná, conquistou sua únic...</td>\n",
       "    </tr>\n",
       "    <tr>\n",
       "      <th>14</th>\n",
       "      <td>Coritiba</td>\n",
       "      <td>1</td>\n",
       "      <td>Fundado em 1909, também em Curitiba, venceu o ...</td>\n",
       "    </tr>\n",
       "    <tr>\n",
       "      <th>15</th>\n",
       "      <td>Guarani</td>\n",
       "      <td>1</td>\n",
       "      <td>Criado em 1911, em Campinas, conquistou seu ún...</td>\n",
       "    </tr>\n",
       "    <tr>\n",
       "      <th>16</th>\n",
       "      <td>Sport</td>\n",
       "      <td>1</td>\n",
       "      <td>Fundado em 1905, em Recife, ficou com a taça d...</td>\n",
       "    </tr>\n",
       "  </tbody>\n",
       "</table>\n",
       "</div>"
      ],
      "text/plain": [
       "           Clube Campeão  Número de Títulos  \\\n",
       "0              Palmeiras                 11   \n",
       "1                 Santos                  8   \n",
       "2            Corinthians                  7   \n",
       "3               Flamengo                  8   \n",
       "4              São Paulo                  6   \n",
       "5               Cruzeiro                  4   \n",
       "6             Fluminense                  4   \n",
       "7          Vasco da Gama                  4   \n",
       "8       Atlético Mineiro                  2   \n",
       "9          Internacional                  3   \n",
       "10              Botafogo                  2   \n",
       "11                 Bahia                  2   \n",
       "12                Grêmio                  2   \n",
       "13  Athletico Paranaense                  1   \n",
       "14              Coritiba                  1   \n",
       "15               Guarani                  1   \n",
       "16                 Sport                  1   \n",
       "\n",
       "                                             História  \n",
       "0   Fundado em 1914 como Palestra Italia, em São P...  \n",
       "1   Fundado em 1912, em Santos, destacou-se na era...  \n",
       "2   Criado em 1910, em São Paulo, é um dos clubes ...  \n",
       "3   Fundado em 1895, no Rio de Janeiro, é um dos m...  \n",
       "4   Fundado em 1930, em São Paulo, vencedor de 6 e...  \n",
       "5   Criado em 1921, em Belo Horizonte, conquistou ...  \n",
       "6   Fundado em 1902, no Rio de Janeiro, conquistou...  \n",
       "7   Criado em 1898, no Rio de Janeiro, tem 4 campe...  \n",
       "8   Fundado em 1908, em Minas Gerais, faturou 2 tí...  \n",
       "9   Criado em 1909, no Rio Grande do Sul, venceu 3...  \n",
       "10  Fundado em 1904, no Rio de Janeiro, soma 2 cam...  \n",
       "11  Criado em 1931, na Bahia, conquistou 2 Brasile...  \n",
       "12  Fundado em 1903, no Rio Grande do Sul, tem 2 t...  \n",
       "13  Criado em 1924, no Paraná, conquistou sua únic...  \n",
       "14  Fundado em 1909, também em Curitiba, venceu o ...  \n",
       "15  Criado em 1911, em Campinas, conquistou seu ún...  \n",
       "16  Fundado em 1905, em Recife, ficou com a taça d...  "
      ]
     },
     "execution_count": 8,
     "metadata": {},
     "output_type": "execute_result"
    }
   ],
   "source": [
    "## IMPORTANDO A BASE DE DADOS\n",
    "import pandas as pd\n",
    "df = pd.read_excel('clubes_campeoes_brasileirao.xlsx')\n",
    "df"
   ]
  },
  {
   "cell_type": "code",
   "execution_count": 9,
   "metadata": {},
   "outputs": [],
   "source": [
    "##Transformo o df para o estilo de documento do Langchain\n",
    "from langchain_community.document_loaders import DataFrameLoader\n",
    "loader = DataFrameLoader(df, page_content_column='História')\n",
    "documents = loader.load()"
   ]
  },
  {
   "cell_type": "code",
   "execution_count": 10,
   "metadata": {},
   "outputs": [],
   "source": [
    "##Personalizando o texto em um padrão\n",
    "from langchain.schema import Document\n",
    "documents = []\n",
    "\n",
    "for _, row in df.iterrows():\n",
    "    content = f\"\"\"Clube: {row['Clube Campeão']}\n",
    "História: {row['História']}\"\"\"\n",
    "    \n",
    "    documents.append(Document(page_content=content, metadata=row.to_dict()))"
   ]
  },
  {
   "cell_type": "code",
   "execution_count": 11,
   "metadata": {},
   "outputs": [],
   "source": [
    "## Trazendo as variáveis do Qdrant\n",
    "from langchain_community.vectorstores import Qdrant\n",
    "from langchain_openai import OpenAIEmbeddings\n",
    "embeddings = OpenAIEmbeddings()\n",
    "\n",
    "qdrant = Qdrant.from_documents(\n",
    "documents=documents,\n",
    "embedding=embeddings,\n",
    "location=\":memory:\",\n",
    "collection_name = \"chatbot\"\n",
    ")"
   ]
  },
  {
   "cell_type": "code",
   "execution_count": 12,
   "metadata": {},
   "outputs": [
    {
     "data": {
      "text/plain": [
       "[Document(metadata={'Clube Campeão': 'São Paulo', 'Número de Títulos': 6, 'História': 'Fundado em 1930, em São Paulo, vencedor de 6 edições e de 3 Mundiais de Clubes.', '_id': 'b89ebdf68a4f45ba83cf51ca606d1f10', '_collection_name': 'chatbot'}, page_content='Clube: São Paulo\\nHistória: Fundado em 1930, em São Paulo, vencedor de 6 edições e de 3 Mundiais de Clubes.'),\n",
       " Document(metadata={'Clube Campeão': 'Corinthians', 'Número de Títulos': 7, 'História': 'Criado em 1910, em São Paulo, é um dos clubes mais populares do Brasil, com 7 taças do Brasileirão.', '_id': '4e97bc8b481245dfb0554f3a6caaa330', '_collection_name': 'chatbot'}, page_content='Clube: Corinthians\\nHistória: Criado em 1910, em São Paulo, é um dos clubes mais populares do Brasil, com 7 taças do Brasileirão.'),\n",
       " Document(metadata={'Clube Campeão': 'Internacional', 'Número de Títulos': 3, 'História': 'Criado em 1909, no Rio Grande do Sul, venceu 3 edições e tem forte tradição no futebol sul-americano.', '_id': '8a778466b35f473db779921b99108cc9', '_collection_name': 'chatbot'}, page_content='Clube: Internacional\\nHistória: Criado em 1909, no Rio Grande do Sul, venceu 3 edições e tem forte tradição no futebol sul-americano.'),\n",
       " Document(metadata={'Clube Campeão': 'Palmeiras', 'Número de Títulos': 11, 'História': 'Fundado em 1914 como Palestra Italia, em São Paulo, tornou-se o clube com mais títulos do Brasileirão (11).', '_id': '33dab636c720469a83a3527990e84433', '_collection_name': 'chatbot'}, page_content='Clube: Palmeiras\\nHistória: Fundado em 1914 como Palestra Italia, em São Paulo, tornou-se o clube com mais títulos do Brasileirão (11).'),\n",
       " Document(metadata={'Clube Campeão': 'Bahia', 'Número de Títulos': 2, 'História': 'Criado em 1931, na Bahia, conquistou 2 Brasileirões e é o principal clube nordestino em títulos.', '_id': 'fb8266d2dbe649c19c67a01a3db9b475', '_collection_name': 'chatbot'}, page_content='Clube: Bahia\\nHistória: Criado em 1931, na Bahia, conquistou 2 Brasileirões e é o principal clube nordestino em títulos.')]"
      ]
     },
     "execution_count": 12,
     "metadata": {},
     "output_type": "execute_result"
    }
   ],
   "source": [
    "## Pergunta ao modelo\n",
    "query = \"Quais os 3 clubes com mais títulos?\"\n",
    "qdrant.similarity_search(query, k=5)"
   ]
  },
  {
   "cell_type": "code",
   "execution_count": 13,
   "metadata": {},
   "outputs": [],
   "source": [
    "## Propriedades básicas de consulta ao modelo\n",
    "def custom_prompt(query: str):\n",
    "    results = qdrant.similarity_search(query, k=17)\n",
    "    source_knowledge = \"\\n\".join([x.page_content for x in results])\n",
    "    augmented_prompt= f\"\"\" Use o contexto abixo para responder à pergunta.\n",
    "\n",
    "    Contexto:\n",
    "    {source_knowledge}\n",
    "\n",
    "    Pergunta:\n",
    "    {query}\"\"\"\n",
    "    return augmented_prompt"
   ]
  },
  {
   "cell_type": "code",
   "execution_count": null,
   "metadata": {},
   "outputs": [],
   "source": [
    "## Usando o modelo do GROQ\n",
    "from langchain_groq import ChatGroq\n",
    "load_dotenv(\"GROQ_API_KEY.env\")\n",
    "chat = ChatGroq(temperature=0, model_name=\"llama3-70b-8192\")"
   ]
  },
  {
   "cell_type": "code",
   "execution_count": null,
   "metadata": {},
   "outputs": [
    {
     "name": "stdout",
     "output_type": "stream",
     "text": [
      "De acordo com o contexto, os 3 clubes com mais títulos são:\n",
      "\n",
      "1. Palmeiras (11 títulos)\n",
      "2. Flamengo (8 títulos)\n",
      "3. Santos (8 títulos)\n"
     ]
    }
   ],
   "source": [
    "## Invocando o modelo\n",
    "prompt = HumanMessage(\n",
    "    content=custom_prompt(query)\n",
    ")\n",
    "\n",
    "messages.append(prompt)\n",
    "res = chat.invoke(messages)\n",
    "print(res.content)"
   ]
  }
 ],
 "metadata": {
  "kernelspec": {
   "display_name": "Python 3",
   "language": "python",
   "name": "python3"
  },
  "language_info": {
   "codemirror_mode": {
    "name": "ipython",
    "version": 3
   },
   "file_extension": ".py",
   "mimetype": "text/x-python",
   "name": "python",
   "nbconvert_exporter": "python",
   "pygments_lexer": "ipython3",
   "version": "3.12.10"
  }
 },
 "nbformat": 4,
 "nbformat_minor": 2
}
